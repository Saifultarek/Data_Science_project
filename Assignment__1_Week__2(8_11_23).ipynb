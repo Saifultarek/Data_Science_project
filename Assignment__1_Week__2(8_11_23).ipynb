{
  "nbformat": 4,
  "nbformat_minor": 0,
  "metadata": {
    "colab": {
      "provenance": []
    },
    "kernelspec": {
      "name": "python3",
      "display_name": "Python 3"
    },
    "language_info": {
      "name": "python"
    }
  },
  "cells": [
    {
      "cell_type": "code",
      "execution_count": 3,
      "metadata": {
        "colab": {
          "base_uri": "https://localhost:8080/"
        },
        "id": "4UqH_Lx6zzP8",
        "outputId": "642ff661-a5da-4a97-bae2-f1e95df2bbbd"
      },
      "outputs": [
        {
          "output_type": "stream",
          "name": "stdout",
          "text": [
            "Create List of duplicate elements: [1, 5]\n"
          ]
        }
      ],
      "source": [
        "#1.\tWrite a program to make another list of duplicate elements from the following list\n",
        "#[1, 5, 6, 5, 1, 2, 3]\n",
        "#------------------------\n",
        "original = [1, 5, 6, 5, 1, 2, 3]\n",
        "duplicate = []\n",
        "\n",
        "for element in original:\n",
        "    if original.count(element) > 1 and element not in duplicate:\n",
        "        duplicate.append(element)\n",
        "\n",
        "print(\"Create List of duplicate elements:\", duplicate)\n"
      ]
    }
  ]
}