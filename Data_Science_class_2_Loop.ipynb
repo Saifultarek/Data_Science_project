{
  "nbformat": 4,
  "nbformat_minor": 0,
  "metadata": {
    "colab": {
      "provenance": []
    },
    "kernelspec": {
      "name": "python3",
      "display_name": "Python 3"
    },
    "language_info": {
      "name": "python"
    }
  },
  "cells": [
    {
      "cell_type": "code",
      "execution_count": 1,
      "metadata": {
        "id": "6JNmmLXTfD_P"
      },
      "outputs": [],
      "source": [
        "val1 = 1\n",
        "val2 =2\n",
        "\n"
      ]
    },
    {
      "cell_type": "code",
      "source": [
        "print(1/2) #0.5\n",
        "print(val1%val2) # 1"
      ],
      "metadata": {
        "colab": {
          "base_uri": "https://localhost:8080/"
        },
        "id": "cpPMhSs6fFct",
        "outputId": "69d8f22a-fd61-4fb8-ddac-c1b83c2a054d"
      },
      "execution_count": 3,
      "outputs": [
        {
          "output_type": "stream",
          "name": "stdout",
          "text": [
            "0.5\n",
            "1\n"
          ]
        }
      ]
    },
    {
      "cell_type": "code",
      "source": [
        "x= 2.9\n",
        "print(round(x)) # first round then print option."
      ],
      "metadata": {
        "colab": {
          "base_uri": "https://localhost:8080/"
        },
        "id": "MilEOBaSfFeS",
        "outputId": "bcbcbcf0-e236-4a2f-dae5-c9591e285fa6"
      },
      "execution_count": 4,
      "outputs": [
        {
          "output_type": "stream",
          "name": "stdout",
          "text": [
            "3\n"
          ]
        }
      ]
    },
    {
      "cell_type": "code",
      "source": [
        "x =2.4\n",
        "print(round(x)) # .5 to up value always 1 count."
      ],
      "metadata": {
        "colab": {
          "base_uri": "https://localhost:8080/"
        },
        "id": "aGQWtfwofFmK",
        "outputId": "4bb086a6-2edc-4bd9-8442-92718c698ef7"
      },
      "execution_count": 5,
      "outputs": [
        {
          "output_type": "stream",
          "name": "stdout",
          "text": [
            "2\n"
          ]
        }
      ]
    },
    {
      "cell_type": "code",
      "source": [
        "x= 2.8\n",
        "print(round(x))"
      ],
      "metadata": {
        "colab": {
          "base_uri": "https://localhost:8080/"
        },
        "id": "HMX2D1hjfFnc",
        "outputId": "e79f02d2-2de8-450e-f460-456c639556ea"
      },
      "execution_count": 6,
      "outputs": [
        {
          "output_type": "stream",
          "name": "stdout",
          "text": [
            "3\n"
          ]
        }
      ]
    },
    {
      "cell_type": "code",
      "source": [
        "import math\n",
        "x =2.9     # python all time one line always, not need space in the first line.\n",
        "print(math.ceil(x)) # give up integer value\n",
        "print(math.floor(x)) # floor is given just base integer value for value."
      ],
      "metadata": {
        "colab": {
          "base_uri": "https://localhost:8080/"
        },
        "id": "ydcimt_YgeGW",
        "outputId": "7f0bc1c1-423b-417e-bee9-7acc5f86ef97"
      },
      "execution_count": 9,
      "outputs": [
        {
          "output_type": "stream",
          "name": "stdout",
          "text": [
            "3\n",
            "2\n"
          ]
        }
      ]
    },
    {
      "cell_type": "code",
      "source": [
        "if 5>2:\n",
        "  print(\"Five is greater than two\")"
      ],
      "metadata": {
        "colab": {
          "base_uri": "https://localhost:8080/"
        },
        "id": "fCQsz066geHn",
        "outputId": "12f2ab0c-d8c2-44ad-9cf9-413421dbcea9"
      },
      "execution_count": 10,
      "outputs": [
        {
          "output_type": "stream",
          "name": "stdout",
          "text": [
            "Five is greater than two\n"
          ]
        }
      ]
    },
    {
      "cell_type": "code",
      "source": [
        "#loop\n",
        "i =10\n",
        "if i<15:\n",
        "  print(\"10 is the less than 15\")\n",
        "else:\n",
        "  print(\"i am not in if\")"
      ],
      "metadata": {
        "colab": {
          "base_uri": "https://localhost:8080/"
        },
        "id": "46qSRCSOgePN",
        "outputId": "55570071-4e4b-4718-8b6a-b355a47a7ca0"
      },
      "execution_count": 14,
      "outputs": [
        {
          "output_type": "stream",
          "name": "stdout",
          "text": [
            "10 is the less than 15\n"
          ]
        }
      ]
    },
    {
      "cell_type": "code",
      "source": [
        "i= 20\n",
        "if i> 15:\n",
        "  print(\" i am\")\n",
        "else:\n",
        "  print(\"i am not\")\n",
        "print(\"other class\")"
      ],
      "metadata": {
        "colab": {
          "base_uri": "https://localhost:8080/"
        },
        "id": "FfbAEVxngeQo",
        "outputId": "c0395c6c-478e-490d-b3e3-a5e691a35ac9"
      },
      "execution_count": 16,
      "outputs": [
        {
          "output_type": "stream",
          "name": "stdout",
          "text": [
            " i am\n",
            "other class\n"
          ]
        }
      ]
    },
    {
      "cell_type": "code",
      "source": [
        "i=30   # if ----elif---elif---else condition.\n",
        "if i ==10:\n",
        "  print(\"i is 10\")\n",
        "elif i ==15:\n",
        "   print(\"i is 15\")\n",
        "elif  i==20:\n",
        "   print(\"i is 20\")\n",
        "else:\n",
        "  print(\"i is not present\")\n"
      ],
      "metadata": {
        "colab": {
          "base_uri": "https://localhost:8080/"
        },
        "id": "Cw4CbivAkjSt",
        "outputId": "af76a844-c0db-4d7b-bfd9-8fc6ec63cde4"
      },
      "execution_count": 18,
      "outputs": [
        {
          "output_type": "stream",
          "name": "stdout",
          "text": [
            "i is not present\n"
          ]
        }
      ]
    },
    {
      "cell_type": "code",
      "source": [
        "# comparison operators result always true or false is given\n",
        "a =9  #Asign means store in the variable\n",
        "b =5\n",
        "print(a >b) #True\n",
        "print(a <b) #False\n",
        "print(a == b) #False\n",
        "print(a!=b) #True\n",
        "print(a<=b)# False"
      ],
      "metadata": {
        "colab": {
          "base_uri": "https://localhost:8080/"
        },
        "id": "2nYk-BGWkjX-",
        "outputId": "2b046db6-2b87-4567-9a1b-0bd777fc1f42"
      },
      "execution_count": 22,
      "outputs": [
        {
          "output_type": "stream",
          "name": "stdout",
          "text": [
            "True\n",
            "False\n",
            "False\n",
            "True\n",
            "False\n"
          ]
        }
      ]
    },
    {
      "cell_type": "code",
      "source": [
        "#Logical operator\n",
        "a = 10\n",
        "b = 10\n",
        "c = 10\n",
        "\n",
        "if a > 0 and b >0 and c > 0 : # all condition is true then given answer below\n",
        "  print(\"The numbers are greater than 0\")\n",
        "else:\n",
        "   print(\"aaaaaaaaaaa\")\n"
      ],
      "metadata": {
        "colab": {
          "base_uri": "https://localhost:8080/"
        },
        "id": "9yTU552xmhLu",
        "outputId": "f42e953d-ae99-462f-e379-abb9d6b7143f"
      },
      "execution_count": 24,
      "outputs": [
        {
          "output_type": "stream",
          "name": "stdout",
          "text": [
            "The numbers are greater than 0\n"
          ]
        }
      ]
    },
    {
      "cell_type": "code",
      "source": [
        "a = 10\n",
        "b = -10\n",
        "c = 10\n",
        "\n",
        "if a > 0 and b >0 and c > 0 : # all condition is true then given answer below\n",
        "  print(\"The numbers are greater than 0\")\n",
        "else:\n",
        "   print(\"aaaaaaaaaaa\")\n"
      ],
      "metadata": {
        "colab": {
          "base_uri": "https://localhost:8080/"
        },
        "id": "cqAelCCXmhNR",
        "outputId": "06d1245a-a233-4497-ae5e-7ad0632a09cb"
      },
      "execution_count": 25,
      "outputs": [
        {
          "output_type": "stream",
          "name": "stdout",
          "text": [
            "aaaaaaaaaaa\n"
          ]
        }
      ]
    },
    {
      "cell_type": "code",
      "source": [
        "a = 10 #or logical operator\n",
        "b = - 10\n",
        "c = 10\n",
        "\n",
        "if a > 0 or b >0  : # all condition is true then given answer below\n",
        "  print(\"The numbers are greater than 0\")\n"
      ],
      "metadata": {
        "colab": {
          "base_uri": "https://localhost:8080/"
        },
        "id": "-9hIp5xjmhSB",
        "outputId": "e61e386f-0f34-4d39-8692-00c4a20bc512"
      },
      "execution_count": 27,
      "outputs": [
        {
          "output_type": "stream",
          "name": "stdout",
          "text": [
            "The numbers are greater than 0\n"
          ]
        }
      ]
    },
    {
      "cell_type": "code",
      "source": [
        "a =10\n",
        "if a % 3 ==0:\n",
        "  print(\"10 is divisible by either 3 or 5\")\n",
        "else:\n",
        "  print(\"other\")\n",
        ""
      ],
      "metadata": {
        "colab": {
          "base_uri": "https://localhost:8080/"
        },
        "id": "RlvlOAa3mhTo",
        "outputId": "c9220ba1-f421-4a95-ff3b-6b5eaae6e0d6"
      },
      "execution_count": 28,
      "outputs": [
        {
          "output_type": "stream",
          "name": "stdout",
          "text": [
            "other\n"
          ]
        }
      ]
    },
    {
      "cell_type": "code",
      "source": [
        "#Assignment operator\n",
        "x = 5\n",
        "x = x+5 # first do the sum then store in the x variable\n",
        "print(x)"
      ],
      "metadata": {
        "colab": {
          "base_uri": "https://localhost:8080/"
        },
        "id": "_BaCW5E7kjZm",
        "outputId": "91df1753-7c27-470a-9fb4-5850de5f0b30"
      },
      "execution_count": 30,
      "outputs": [
        {
          "output_type": "stream",
          "name": "stdout",
          "text": [
            "10\n"
          ]
        }
      ]
    },
    {
      "cell_type": "code",
      "source": [
        "#Assignment operator\n",
        "x = 5\n",
        "x += 5 # first do the sum then store in the x variable# same value x+=5 === x=x+5\n",
        "print(x)"
      ],
      "metadata": {
        "colab": {
          "base_uri": "https://localhost:8080/"
        },
        "id": "37iCVVTUgeYM",
        "outputId": "6c702f38-e548-4960-b5e4-f4edb44103d2"
      },
      "execution_count": 31,
      "outputs": [
        {
          "output_type": "stream",
          "name": "stdout",
          "text": [
            "10\n"
          ]
        }
      ]
    },
    {
      "cell_type": "code",
      "source": [
        "a = 5+6j  #complex number\n",
        "print(a)\n",
        "print(a.real)\n",
        "print(a.imag)\n",
        "print(type(a))"
      ],
      "metadata": {
        "colab": {
          "base_uri": "https://localhost:8080/"
        },
        "id": "YBXuOnhzgeZ3",
        "outputId": "679b5186-417f-497c-99fc-41807d5e1023"
      },
      "execution_count": 33,
      "outputs": [
        {
          "output_type": "stream",
          "name": "stdout",
          "text": [
            "(5+6j)\n",
            "5.0\n",
            "6.0\n",
            "<class 'complex'>\n"
          ]
        }
      ]
    },
    {
      "cell_type": "code",
      "source": [
        "count = 0\n",
        "while count < 9:\n",
        "  print(\" the count is :\", count)\n",
        "  count = count +1\n",
        "print(\"Good Bye!\")"
      ],
      "metadata": {
        "colab": {
          "base_uri": "https://localhost:8080/"
        },
        "id": "fYY7jUw3qBiF",
        "outputId": "73858c00-6353-47b1-c839-fc15cd262a26"
      },
      "execution_count": 34,
      "outputs": [
        {
          "output_type": "stream",
          "name": "stdout",
          "text": [
            " the count is : 0\n",
            " the count is : 1\n",
            " the count is : 2\n",
            " the count is : 3\n",
            " the count is : 4\n",
            " the count is : 5\n",
            " the count is : 6\n",
            " the count is : 7\n",
            " the count is : 8\n",
            "Good Bye!\n"
          ]
        }
      ]
    },
    {
      "cell_type": "code",
      "source": [
        "counter =0\n",
        "while counter < 10 :\n",
        "  print(\"Saiful Islam\", counter)\n",
        "  counter= counter+1\n"
      ],
      "metadata": {
        "colab": {
          "base_uri": "https://localhost:8080/"
        },
        "id": "TXZ6F0txqBjg",
        "outputId": "1e7109f9-5c1f-4b94-ccd7-fa7574d8fca5"
      },
      "execution_count": 38,
      "outputs": [
        {
          "output_type": "stream",
          "name": "stdout",
          "text": [
            "Saiful Islam 0\n",
            "Saiful Islam 1\n",
            "Saiful Islam 2\n",
            "Saiful Islam 3\n",
            "Saiful Islam 4\n",
            "Saiful Islam 5\n",
            "Saiful Islam 6\n",
            "Saiful Islam 7\n",
            "Saiful Islam 8\n",
            "Saiful Islam 9\n"
          ]
        }
      ]
    },
    {
      "cell_type": "code",
      "source": [
        "counter = 1\n",
        "while counter < 100 :\n",
        "  print(\"Saiful Islam\", counter)\n",
        "  counter= counter+1\n"
      ],
      "metadata": {
        "colab": {
          "base_uri": "https://localhost:8080/"
        },
        "id": "31mk645UtLrl",
        "outputId": "83f21537-0964-454c-9ef8-664d78cd7afa"
      },
      "execution_count": 39,
      "outputs": [
        {
          "output_type": "stream",
          "name": "stdout",
          "text": [
            "Saiful Islam 1\n",
            "Saiful Islam 2\n",
            "Saiful Islam 3\n",
            "Saiful Islam 4\n",
            "Saiful Islam 5\n",
            "Saiful Islam 6\n",
            "Saiful Islam 7\n",
            "Saiful Islam 8\n",
            "Saiful Islam 9\n",
            "Saiful Islam 10\n",
            "Saiful Islam 11\n",
            "Saiful Islam 12\n",
            "Saiful Islam 13\n",
            "Saiful Islam 14\n",
            "Saiful Islam 15\n",
            "Saiful Islam 16\n",
            "Saiful Islam 17\n",
            "Saiful Islam 18\n",
            "Saiful Islam 19\n",
            "Saiful Islam 20\n",
            "Saiful Islam 21\n",
            "Saiful Islam 22\n",
            "Saiful Islam 23\n",
            "Saiful Islam 24\n",
            "Saiful Islam 25\n",
            "Saiful Islam 26\n",
            "Saiful Islam 27\n",
            "Saiful Islam 28\n",
            "Saiful Islam 29\n",
            "Saiful Islam 30\n",
            "Saiful Islam 31\n",
            "Saiful Islam 32\n",
            "Saiful Islam 33\n",
            "Saiful Islam 34\n",
            "Saiful Islam 35\n",
            "Saiful Islam 36\n",
            "Saiful Islam 37\n",
            "Saiful Islam 38\n",
            "Saiful Islam 39\n",
            "Saiful Islam 40\n",
            "Saiful Islam 41\n",
            "Saiful Islam 42\n",
            "Saiful Islam 43\n",
            "Saiful Islam 44\n",
            "Saiful Islam 45\n",
            "Saiful Islam 46\n",
            "Saiful Islam 47\n",
            "Saiful Islam 48\n",
            "Saiful Islam 49\n",
            "Saiful Islam 50\n",
            "Saiful Islam 51\n",
            "Saiful Islam 52\n",
            "Saiful Islam 53\n",
            "Saiful Islam 54\n",
            "Saiful Islam 55\n",
            "Saiful Islam 56\n",
            "Saiful Islam 57\n",
            "Saiful Islam 58\n",
            "Saiful Islam 59\n",
            "Saiful Islam 60\n",
            "Saiful Islam 61\n",
            "Saiful Islam 62\n",
            "Saiful Islam 63\n",
            "Saiful Islam 64\n",
            "Saiful Islam 65\n",
            "Saiful Islam 66\n",
            "Saiful Islam 67\n",
            "Saiful Islam 68\n",
            "Saiful Islam 69\n",
            "Saiful Islam 70\n",
            "Saiful Islam 71\n",
            "Saiful Islam 72\n",
            "Saiful Islam 73\n",
            "Saiful Islam 74\n",
            "Saiful Islam 75\n",
            "Saiful Islam 76\n",
            "Saiful Islam 77\n",
            "Saiful Islam 78\n",
            "Saiful Islam 79\n",
            "Saiful Islam 80\n",
            "Saiful Islam 81\n",
            "Saiful Islam 82\n",
            "Saiful Islam 83\n",
            "Saiful Islam 84\n",
            "Saiful Islam 85\n",
            "Saiful Islam 86\n",
            "Saiful Islam 87\n",
            "Saiful Islam 88\n",
            "Saiful Islam 89\n",
            "Saiful Islam 90\n",
            "Saiful Islam 91\n",
            "Saiful Islam 92\n",
            "Saiful Islam 93\n",
            "Saiful Islam 94\n",
            "Saiful Islam 95\n",
            "Saiful Islam 96\n",
            "Saiful Islam 97\n",
            "Saiful Islam 98\n",
            "Saiful Islam 99\n"
          ]
        }
      ]
    },
    {
      "cell_type": "code",
      "source": [
        "i = 1\n",
        "while i<1000:\n",
        "  print(i)\n",
        "\n",
        "  if i==10:\n",
        "    break\n",
        "  i +=1\n",
        "\n"
      ],
      "metadata": {
        "colab": {
          "base_uri": "https://localhost:8080/"
        },
        "id": "t0tGdZPgtLtR",
        "outputId": "f11bca20-e117-4077-88a4-1f7185eb71ba"
      },
      "execution_count": 49,
      "outputs": [
        {
          "output_type": "stream",
          "name": "stdout",
          "text": [
            "1\n",
            "2\n",
            "3\n",
            "4\n",
            "5\n",
            "6\n",
            "7\n",
            "8\n",
            "9\n",
            "10\n"
          ]
        }
      ]
    },
    {
      "cell_type": "code",
      "source": [
        "i = 0\n",
        "while i< 6:\n",
        "  i+=1\n",
        "  if i ==3:\n",
        "    continue\n",
        "  print(i)"
      ],
      "metadata": {
        "colab": {
          "base_uri": "https://localhost:8080/"
        },
        "id": "8eILgnZhtL7Y",
        "outputId": "e6429594-eca7-4567-b83c-f17d2dc36a5d"
      },
      "execution_count": 52,
      "outputs": [
        {
          "output_type": "stream",
          "name": "stdout",
          "text": [
            "1\n",
            "2\n",
            "4\n",
            "5\n",
            "6\n"
          ]
        }
      ]
    },
    {
      "cell_type": "code",
      "source": [
        "n =100\n",
        "sum = 0\n",
        "i =1\n",
        "\n",
        "while i<= n:\n",
        "  sum = sum+i\n",
        "  i =i+1\n",
        "print(sum)\n"
      ],
      "metadata": {
        "colab": {
          "base_uri": "https://localhost:8080/"
        },
        "id": "yPZYcDMmtNMz",
        "outputId": "878efb41-eac2-4415-8e63-ce07a384da72"
      },
      "execution_count": 54,
      "outputs": [
        {
          "output_type": "stream",
          "name": "stdout",
          "text": [
            "101\n",
            "5050\n"
          ]
        }
      ]
    },
    {
      "cell_type": "code",
      "source": [
        "n =1000\n",
        "sum = 0\n",
        "i =1\n",
        "\n",
        "while i<= n:\n",
        "  sum = sum+i\n",
        "  i =i+1\n",
        "print(sum)\n"
      ],
      "metadata": {
        "colab": {
          "base_uri": "https://localhost:8080/"
        },
        "id": "jtKZ9vpqtNOX",
        "outputId": "7538f704-87b7-4f48-c4d4-ea8425772972"
      },
      "execution_count": 55,
      "outputs": [
        {
          "output_type": "stream",
          "name": "stdout",
          "text": [
            "500500\n"
          ]
        }
      ]
    },
    {
      "cell_type": "code",
      "source": [
        "n =100\n",
        "sum = 0\n",
        "i =0\n",
        "\n",
        "while i<= n:\n",
        "  sum = sum+i\n",
        "  i =i+2\n",
        "\n",
        "print(sum)\n"
      ],
      "metadata": {
        "colab": {
          "base_uri": "https://localhost:8080/"
        },
        "id": "dyC6ua5HtNSv",
        "outputId": "0fe4be94-98b1-46eb-a1c5-28218b3e739a"
      },
      "execution_count": 57,
      "outputs": [
        {
          "output_type": "stream",
          "name": "stdout",
          "text": [
            "2550\n"
          ]
        }
      ]
    },
    {
      "cell_type": "code",
      "source": [],
      "metadata": {
        "id": "WFmR8r7iqBqg"
      },
      "execution_count": null,
      "outputs": []
    },
    {
      "cell_type": "code",
      "source": [],
      "metadata": {
        "id": "m9dMG3O6qCBZ"
      },
      "execution_count": null,
      "outputs": []
    },
    {
      "cell_type": "code",
      "source": [],
      "metadata": {
        "id": "kbpe7dfpqCC-"
      },
      "execution_count": null,
      "outputs": []
    }
  ]
}