{
  "nbformat": 4,
  "nbformat_minor": 0,
  "metadata": {
    "colab": {
      "provenance": [],
      "toc_visible": true
    },
    "kernelspec": {
      "name": "python3",
      "display_name": "Python 3"
    },
    "language_info": {
      "name": "python"
    }
  },
  "cells": [
    {
      "cell_type": "code",
      "execution_count": 1,
      "metadata": {
        "colab": {
          "base_uri": "https://localhost:8080/"
        },
        "id": "pFQ1ePOMyRPc",
        "outputId": "016f3746-addb-404b-e71b-cb0c3b077a8b"
      },
      "outputs": [
        {
          "output_type": "stream",
          "name": "stdout",
          "text": [
            "5050\n"
          ]
        }
      ],
      "source": [
        "#loop practices :\n",
        "n =100\n",
        "sum = 0\n",
        "i =1\n",
        "\n",
        "while i<= n:\n",
        "  sum = sum+i\n",
        "  i =i+1\n",
        "print(sum)\n"
      ]
    },
    {
      "cell_type": "code",
      "source": [
        "#1+2+3+4+------+50 using while loop\n",
        "i = 1\n",
        "sum = 0\n",
        "while(i <= 50):\n",
        "  print(i)\n",
        "  sum = sum+i\n",
        "  i =i+1\n",
        "print(sum ,i)"
      ],
      "metadata": {
        "colab": {
          "base_uri": "https://localhost:8080/"
        },
        "id": "XUDDvV41yS5n",
        "outputId": "be004a23-f58c-4a94-b322-c6d2abdddfcf"
      },
      "execution_count": 7,
      "outputs": [
        {
          "output_type": "stream",
          "name": "stdout",
          "text": [
            "1\n",
            "2\n",
            "3\n",
            "4\n",
            "5\n",
            "6\n",
            "7\n",
            "8\n",
            "9\n",
            "10\n",
            "11\n",
            "12\n",
            "13\n",
            "14\n",
            "15\n",
            "16\n",
            "17\n",
            "18\n",
            "19\n",
            "20\n",
            "21\n",
            "22\n",
            "23\n",
            "24\n",
            "25\n",
            "26\n",
            "27\n",
            "28\n",
            "29\n",
            "30\n",
            "31\n",
            "32\n",
            "33\n",
            "34\n",
            "35\n",
            "36\n",
            "37\n",
            "38\n",
            "39\n",
            "40\n",
            "41\n",
            "42\n",
            "43\n",
            "44\n",
            "45\n",
            "46\n",
            "47\n",
            "48\n",
            "49\n",
            "50\n",
            "1275 51\n"
          ]
        }
      ]
    },
    {
      "cell_type": "code",
      "source": [
        "var = 2.4\n",
        "print(\"round : \", round(var))  #"
      ],
      "metadata": {
        "colab": {
          "base_uri": "https://localhost:8080/"
        },
        "id": "amlkDtTa1p-f",
        "outputId": "e2a0addc-1fd1-4745-fd20-1a60d65ffb44"
      },
      "execution_count": 13,
      "outputs": [
        {
          "output_type": "stream",
          "name": "stdout",
          "text": [
            "round :  2\n"
          ]
        }
      ]
    },
    {
      "cell_type": "code",
      "source": [
        "import math\n",
        "\n",
        "var = 2.5 # lower = 2 , upper = 3\n",
        "print(\"type : \", type(var)) #float\n",
        "print(\"ceil : \", math.ceil(var)) # 3 ( 2.5 give the value of 3)\n",
        "print(\"floor : \", math.floor(var)) # 2\n",
        "print(\"round : \", round(var))  #3\n",
        "\n",
        "# for i in range(start, end-1, step = 1):\n",
        "for i in range(1, 11):\n",
        "    print(i)\n",
        "\n",
        "ls = [1, 2, 3, 4, 5, 6]\n",
        "for i in ls:\n",
        "    print(i)"
      ],
      "metadata": {
        "colab": {
          "base_uri": "https://localhost:8080/"
        },
        "id": "lpUjWBHCyS6w",
        "outputId": "36de5157-2c76-4b3e-b78e-5dabafbec981"
      },
      "execution_count": 8,
      "outputs": [
        {
          "output_type": "stream",
          "name": "stdout",
          "text": [
            "type :  <class 'float'>\n",
            "ceil :  3\n",
            "floor :  2\n",
            "round :  2\n",
            "1\n",
            "2\n",
            "3\n",
            "4\n",
            "5\n",
            "6\n",
            "7\n",
            "8\n",
            "9\n",
            "10\n",
            "1\n",
            "2\n",
            "3\n",
            "4\n",
            "5\n",
            "6\n"
          ]
        }
      ]
    },
    {
      "cell_type": "code",
      "source": [
        "#loop\n",
        "n =100\n",
        "sum = 0\n",
        "i =0\n",
        "\n",
        "while i<= n:\n",
        "  print(i)\n",
        "  sum = sum+i\n",
        "  i =i+2\n",
        "\n",
        "print(sum)\n"
      ],
      "metadata": {
        "colab": {
          "base_uri": "https://localhost:8080/"
        },
        "id": "iuGmGu4byTCI",
        "outputId": "21960feb-14d6-43f6-ea5a-ab83f2bf8fd4"
      },
      "execution_count": 15,
      "outputs": [
        {
          "output_type": "stream",
          "name": "stdout",
          "text": [
            "0\n",
            "2\n",
            "4\n",
            "6\n",
            "8\n",
            "10\n",
            "12\n",
            "14\n",
            "16\n",
            "18\n",
            "20\n",
            "22\n",
            "24\n",
            "26\n",
            "28\n",
            "30\n",
            "32\n",
            "34\n",
            "36\n",
            "38\n",
            "40\n",
            "42\n",
            "44\n",
            "46\n",
            "48\n",
            "50\n",
            "52\n",
            "54\n",
            "56\n",
            "58\n",
            "60\n",
            "62\n",
            "64\n",
            "66\n",
            "68\n",
            "70\n",
            "72\n",
            "74\n",
            "76\n",
            "78\n",
            "80\n",
            "82\n",
            "84\n",
            "86\n",
            "88\n",
            "90\n",
            "92\n",
            "94\n",
            "96\n",
            "98\n",
            "100\n",
            "2550\n"
          ]
        }
      ]
    },
    {
      "cell_type": "markdown",
      "source": [
        "Assignment -2 on Loop"
      ],
      "metadata": {
        "id": "e3KA7-yk3Qsc"
      }
    },
    {
      "cell_type": "code",
      "source": [
        "#Sum all the odd numbers from 0 to 100 and print it to the screen@\n"
      ],
      "metadata": {
        "id": "d-QPUjQqyTKi"
      },
      "execution_count": 17,
      "outputs": []
    },
    {
      "cell_type": "code",
      "source": [
        "i = 1 # inital value asign\n",
        "sum = 0      #Initialize a variable to store the sum\n",
        "while i<=100:\n",
        "  sum = sum+i\n",
        " # print(i)  # check the value of i (1,3,5,.....99)\n",
        "  i = i+2  # first i = 1, i=1+2 = 3,  then i = 3 , i = 3+2 = 5 , then i = 5 # continuous increasing the value of i and also add 2 for odd number.\n",
        "print(sum)   # final we see the sum of odd number"
      ],
      "metadata": {
        "colab": {
          "base_uri": "https://localhost:8080/"
        },
        "id": "8oBWi_-Q3zbi",
        "outputId": "d0be3647-387c-4c5b-f94b-793ab257cc69"
      },
      "execution_count": 32,
      "outputs": [
        {
          "output_type": "stream",
          "name": "stdout",
          "text": [
            "2500\n"
          ]
        }
      ]
    }
  ]
}