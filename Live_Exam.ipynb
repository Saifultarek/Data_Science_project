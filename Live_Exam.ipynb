{
  "nbformat": 4,
  "nbformat_minor": 0,
  "metadata": {
    "colab": {
      "provenance": []
    },
    "kernelspec": {
      "name": "python3",
      "display_name": "Python 3"
    },
    "language_info": {
      "name": "python"
    }
  },
  "cells": [
    {
      "cell_type": "code",
      "execution_count": 14,
      "metadata": {
        "colab": {
          "base_uri": "https://localhost:8080/"
        },
        "id": "PSK-6U5jQ-yH",
        "outputId": "1aee4560-4424-454e-9c41-de634280a241"
      },
      "outputs": [
        {
          "output_type": "stream",
          "name": "stdout",
          "text": [
            "Enter the student's score: 39\n",
            "The student's grade is: The student is Fail or F\n"
          ]
        }
      ],
      "source": [
        "score = float(input(\"Enter the student's score: \")) # Input the user\n",
        "\n",
        "if 90 <= score <= 100:\n",
        "    grade = 'A'\n",
        "elif 80 <= score < 90:\n",
        "    grade = 'B'\n",
        "elif 70 <= score < 80:\n",
        "    grade = 'C'\n",
        "elif 60 <= score < 70:\n",
        "    grade = 'D'\n",
        "elif 50 <= score < 60:\n",
        "    grade = 'E'\n",
        "elif 40 <= score < 50:\n",
        "    grade = 'E-'\n",
        "else:\n",
        "    grade = 'The student is Fail or F'\n",
        "\n",
        "# Output the grade\n",
        "print(f\"The student's grade is: {grade}\")  # f is use for float number"
      ]
    },
    {
      "cell_type": "code",
      "source": [],
      "metadata": {
        "id": "nDFKVNJmQ_Zl"
      },
      "execution_count": null,
      "outputs": []
    },
    {
      "cell_type": "code",
      "source": [],
      "metadata": {
        "id": "rVm9yaZsQ_ac"
      },
      "execution_count": null,
      "outputs": []
    },
    {
      "cell_type": "code",
      "source": [],
      "metadata": {
        "id": "wvTKcwc0Q_hi"
      },
      "execution_count": null,
      "outputs": []
    },
    {
      "cell_type": "code",
      "source": [],
      "metadata": {
        "id": "SprR5NroQ_sA"
      },
      "execution_count": null,
      "outputs": []
    }
  ]
}