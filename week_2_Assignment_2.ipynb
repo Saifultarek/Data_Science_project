{
  "nbformat": 4,
  "nbformat_minor": 0,
  "metadata": {
    "colab": {
      "provenance": []
    },
    "kernelspec": {
      "name": "python3",
      "display_name": "Python 3"
    },
    "language_info": {
      "name": "python"
    }
  },
  "cells": [
    {
      "cell_type": "code",
      "execution_count": 3,
      "metadata": {
        "colab": {
          "base_uri": "https://localhost:8080/"
        },
        "id": "FgByAk9jJ8N2",
        "outputId": "39b469a5-5e29-4bae-ac8b-4e0cbbf46ddb"
      },
      "outputs": [
        {
          "output_type": "stream",
          "name": "stdout",
          "text": [
            "Original Given List: [1, 5, 2, 9, 3, 22, 13]\n",
            "Final Sorted List: [1, 2, 3, 5, 9, 13, 22]\n"
          ]
        }
      ],
      "source": [
        "def sort_ascending(input_list):\n",
        "    sorted_list = sorted(input_list)\n",
        "    return sorted_list\n",
        "\n",
        "# Given data\n",
        "my_list = [1, 5, 2, 9, 3, 22, 13]\n",
        "\n",
        "sorted_result = sort_ascending(my_list)\n",
        "\n",
        "print(\"Original Given List:\", my_list)\n",
        "print(\"Final Sorted List:\", sorted_result)"
      ]
    }
  ]
}